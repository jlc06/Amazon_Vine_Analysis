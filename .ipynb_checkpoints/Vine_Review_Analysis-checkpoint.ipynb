{
 "cells": [
  {
   "cell_type": "code",
   "execution_count": 1,
   "id": "4eb92a13",
   "metadata": {},
   "outputs": [
    {
     "data": {
      "text/html": [
       "<div>\n",
       "<style scoped>\n",
       "    .dataframe tbody tr th:only-of-type {\n",
       "        vertical-align: middle;\n",
       "    }\n",
       "\n",
       "    .dataframe tbody tr th {\n",
       "        vertical-align: top;\n",
       "    }\n",
       "\n",
       "    .dataframe thead th {\n",
       "        text-align: right;\n",
       "    }\n",
       "</style>\n",
       "<table border=\"1\" class=\"dataframe\">\n",
       "  <thead>\n",
       "    <tr style=\"text-align: right;\">\n",
       "      <th></th>\n",
       "      <th>review_id</th>\n",
       "      <th>star_rating</th>\n",
       "      <th>helpful_votes</th>\n",
       "      <th>total_votes</th>\n",
       "      <th>vine</th>\n",
       "      <th>verified_purchase</th>\n",
       "    </tr>\n",
       "  </thead>\n",
       "  <tbody>\n",
       "    <tr>\n",
       "      <th>0</th>\n",
       "      <td>R1WBPB8MDCCN8F</td>\n",
       "      <td>5.0</td>\n",
       "      <td>0.0</td>\n",
       "      <td>0.0</td>\n",
       "      <td>N</td>\n",
       "      <td>N</td>\n",
       "    </tr>\n",
       "    <tr>\n",
       "      <th>1</th>\n",
       "      <td>R32M0YEWV77XG8</td>\n",
       "      <td>5.0</td>\n",
       "      <td>1.0</td>\n",
       "      <td>1.0</td>\n",
       "      <td>N</td>\n",
       "      <td>Y</td>\n",
       "    </tr>\n",
       "    <tr>\n",
       "      <th>2</th>\n",
       "      <td>RR8V7WR27NXJ5</td>\n",
       "      <td>1.0</td>\n",
       "      <td>0.0</td>\n",
       "      <td>0.0</td>\n",
       "      <td>N</td>\n",
       "      <td>Y</td>\n",
       "    </tr>\n",
       "    <tr>\n",
       "      <th>3</th>\n",
       "      <td>R1MHO5V9Z932AY</td>\n",
       "      <td>5.0</td>\n",
       "      <td>0.0</td>\n",
       "      <td>0.0</td>\n",
       "      <td>N</td>\n",
       "      <td>Y</td>\n",
       "    </tr>\n",
       "    <tr>\n",
       "      <th>4</th>\n",
       "      <td>R16PD71086BD2V</td>\n",
       "      <td>5.0</td>\n",
       "      <td>0.0</td>\n",
       "      <td>1.0</td>\n",
       "      <td>N</td>\n",
       "      <td>N</td>\n",
       "    </tr>\n",
       "    <tr>\n",
       "      <th>5</th>\n",
       "      <td>R1Z8IFGWTRWXT6</td>\n",
       "      <td>3.0</td>\n",
       "      <td>0.0</td>\n",
       "      <td>0.0</td>\n",
       "      <td>N</td>\n",
       "      <td>Y</td>\n",
       "    </tr>\n",
       "    <tr>\n",
       "      <th>6</th>\n",
       "      <td>R3AUMSHAW73HWN</td>\n",
       "      <td>4.0</td>\n",
       "      <td>2.0</td>\n",
       "      <td>3.0</td>\n",
       "      <td>N</td>\n",
       "      <td>N</td>\n",
       "    </tr>\n",
       "    <tr>\n",
       "      <th>7</th>\n",
       "      <td>R2KWDWFOHGX6FL</td>\n",
       "      <td>5.0</td>\n",
       "      <td>0.0</td>\n",
       "      <td>0.0</td>\n",
       "      <td>N</td>\n",
       "      <td>Y</td>\n",
       "    </tr>\n",
       "    <tr>\n",
       "      <th>8</th>\n",
       "      <td>R3H9543FWBWFBU</td>\n",
       "      <td>5.0</td>\n",
       "      <td>1.0</td>\n",
       "      <td>1.0</td>\n",
       "      <td>N</td>\n",
       "      <td>Y</td>\n",
       "    </tr>\n",
       "    <tr>\n",
       "      <th>9</th>\n",
       "      <td>RUANXOQ9W3OU5</td>\n",
       "      <td>5.0</td>\n",
       "      <td>0.0</td>\n",
       "      <td>0.0</td>\n",
       "      <td>N</td>\n",
       "      <td>Y</td>\n",
       "    </tr>\n",
       "  </tbody>\n",
       "</table>\n",
       "</div>"
      ],
      "text/plain": [
       "        review_id  star_rating  helpful_votes  total_votes vine  \\\n",
       "0  R1WBPB8MDCCN8F          5.0            0.0          0.0    N   \n",
       "1  R32M0YEWV77XG8          5.0            1.0          1.0    N   \n",
       "2   RR8V7WR27NXJ5          1.0            0.0          0.0    N   \n",
       "3  R1MHO5V9Z932AY          5.0            0.0          0.0    N   \n",
       "4  R16PD71086BD2V          5.0            0.0          1.0    N   \n",
       "5  R1Z8IFGWTRWXT6          3.0            0.0          0.0    N   \n",
       "6  R3AUMSHAW73HWN          4.0            2.0          3.0    N   \n",
       "7  R2KWDWFOHGX6FL          5.0            0.0          0.0    N   \n",
       "8  R3H9543FWBWFBU          5.0            1.0          1.0    N   \n",
       "9   RUANXOQ9W3OU5          5.0            0.0          0.0    N   \n",
       "\n",
       "  verified_purchase  \n",
       "0                 N  \n",
       "1                 Y  \n",
       "2                 Y  \n",
       "3                 Y  \n",
       "4                 N  \n",
       "5                 Y  \n",
       "6                 N  \n",
       "7                 Y  \n",
       "8                 Y  \n",
       "9                 Y  "
      ]
     },
     "execution_count": 1,
     "metadata": {},
     "output_type": "execute_result"
    }
   ],
   "source": [
    "import pandas as pd\n",
    "vine_table_df = pd.read_csv('vine_table.csv')\n",
    "vine_table_df.head(10)"
   ]
  },
  {
   "cell_type": "code",
   "execution_count": 2,
   "id": "32ce0833",
   "metadata": {},
   "outputs": [
    {
     "data": {
      "text/html": [
       "<div>\n",
       "<style scoped>\n",
       "    .dataframe tbody tr th:only-of-type {\n",
       "        vertical-align: middle;\n",
       "    }\n",
       "\n",
       "    .dataframe tbody tr th {\n",
       "        vertical-align: top;\n",
       "    }\n",
       "\n",
       "    .dataframe thead th {\n",
       "        text-align: right;\n",
       "    }\n",
       "</style>\n",
       "<table border=\"1\" class=\"dataframe\">\n",
       "  <thead>\n",
       "    <tr style=\"text-align: right;\">\n",
       "      <th></th>\n",
       "      <th>review_id</th>\n",
       "      <th>star_rating</th>\n",
       "      <th>helpful_votes</th>\n",
       "      <th>total_votes</th>\n",
       "      <th>vine</th>\n",
       "      <th>verified_purchase</th>\n",
       "    </tr>\n",
       "  </thead>\n",
       "  <tbody>\n",
       "    <tr>\n",
       "      <th>326</th>\n",
       "      <td>R1B4753QMTD8ON</td>\n",
       "      <td>5.0</td>\n",
       "      <td>32.0</td>\n",
       "      <td>32.0</td>\n",
       "      <td>N</td>\n",
       "      <td>N</td>\n",
       "    </tr>\n",
       "    <tr>\n",
       "      <th>662</th>\n",
       "      <td>R28BVHOEL6GCHZ</td>\n",
       "      <td>5.0</td>\n",
       "      <td>21.0</td>\n",
       "      <td>21.0</td>\n",
       "      <td>N</td>\n",
       "      <td>Y</td>\n",
       "    </tr>\n",
       "    <tr>\n",
       "      <th>1055</th>\n",
       "      <td>R27IB4BRKO71I0</td>\n",
       "      <td>2.0</td>\n",
       "      <td>16.0</td>\n",
       "      <td>20.0</td>\n",
       "      <td>N</td>\n",
       "      <td>Y</td>\n",
       "    </tr>\n",
       "    <tr>\n",
       "      <th>1225</th>\n",
       "      <td>RJ86OW12Y4NRL</td>\n",
       "      <td>5.0</td>\n",
       "      <td>124.0</td>\n",
       "      <td>128.0</td>\n",
       "      <td>N</td>\n",
       "      <td>Y</td>\n",
       "    </tr>\n",
       "    <tr>\n",
       "      <th>1448</th>\n",
       "      <td>R3KRABOWCH6ZE4</td>\n",
       "      <td>1.0</td>\n",
       "      <td>48.0</td>\n",
       "      <td>65.0</td>\n",
       "      <td>N</td>\n",
       "      <td>Y</td>\n",
       "    </tr>\n",
       "  </tbody>\n",
       "</table>\n",
       "</div>"
      ],
      "text/plain": [
       "           review_id  star_rating  helpful_votes  total_votes vine  \\\n",
       "326   R1B4753QMTD8ON          5.0           32.0         32.0    N   \n",
       "662   R28BVHOEL6GCHZ          5.0           21.0         21.0    N   \n",
       "1055  R27IB4BRKO71I0          2.0           16.0         20.0    N   \n",
       "1225   RJ86OW12Y4NRL          5.0          124.0        128.0    N   \n",
       "1448  R3KRABOWCH6ZE4          1.0           48.0         65.0    N   \n",
       "\n",
       "     verified_purchase  \n",
       "326                  N  \n",
       "662                  Y  \n",
       "1055                 Y  \n",
       "1225                 Y  \n",
       "1448                 Y  "
      ]
     },
     "execution_count": 2,
     "metadata": {},
     "output_type": "execute_result"
    }
   ],
   "source": [
    "#Filter the data and create a new DataFrame or table to retrieve all\n",
    "#the rows where the total_votes count is equal to or greater than 20 \n",
    "#to pick reviews that are more likely to be helpful and to avoid having \n",
    "#division by zero errors later on.\n",
    "vt_df_votes = vine_table_df[vine_table_df[\"total_votes\"]>=20]\n",
    "vt_df_votes.head()"
   ]
  },
  {
   "cell_type": "code",
   "execution_count": 3,
   "id": "e3375a3e",
   "metadata": {},
   "outputs": [
    {
     "data": {
      "text/html": [
       "<div>\n",
       "<style scoped>\n",
       "    .dataframe tbody tr th:only-of-type {\n",
       "        vertical-align: middle;\n",
       "    }\n",
       "\n",
       "    .dataframe tbody tr th {\n",
       "        vertical-align: top;\n",
       "    }\n",
       "\n",
       "    .dataframe thead th {\n",
       "        text-align: right;\n",
       "    }\n",
       "</style>\n",
       "<table border=\"1\" class=\"dataframe\">\n",
       "  <thead>\n",
       "    <tr style=\"text-align: right;\">\n",
       "      <th></th>\n",
       "      <th>review_id</th>\n",
       "      <th>star_rating</th>\n",
       "      <th>helpful_votes</th>\n",
       "      <th>total_votes</th>\n",
       "      <th>vine</th>\n",
       "      <th>verified_purchase</th>\n",
       "    </tr>\n",
       "  </thead>\n",
       "  <tbody>\n",
       "    <tr>\n",
       "      <th>326</th>\n",
       "      <td>R1B4753QMTD8ON</td>\n",
       "      <td>5.0</td>\n",
       "      <td>32.0</td>\n",
       "      <td>32.0</td>\n",
       "      <td>N</td>\n",
       "      <td>N</td>\n",
       "    </tr>\n",
       "    <tr>\n",
       "      <th>662</th>\n",
       "      <td>R28BVHOEL6GCHZ</td>\n",
       "      <td>5.0</td>\n",
       "      <td>21.0</td>\n",
       "      <td>21.0</td>\n",
       "      <td>N</td>\n",
       "      <td>Y</td>\n",
       "    </tr>\n",
       "    <tr>\n",
       "      <th>1055</th>\n",
       "      <td>R27IB4BRKO71I0</td>\n",
       "      <td>2.0</td>\n",
       "      <td>16.0</td>\n",
       "      <td>20.0</td>\n",
       "      <td>N</td>\n",
       "      <td>Y</td>\n",
       "    </tr>\n",
       "    <tr>\n",
       "      <th>1225</th>\n",
       "      <td>RJ86OW12Y4NRL</td>\n",
       "      <td>5.0</td>\n",
       "      <td>124.0</td>\n",
       "      <td>128.0</td>\n",
       "      <td>N</td>\n",
       "      <td>Y</td>\n",
       "    </tr>\n",
       "    <tr>\n",
       "      <th>1448</th>\n",
       "      <td>R3KRABOWCH6ZE4</td>\n",
       "      <td>1.0</td>\n",
       "      <td>48.0</td>\n",
       "      <td>65.0</td>\n",
       "      <td>N</td>\n",
       "      <td>Y</td>\n",
       "    </tr>\n",
       "  </tbody>\n",
       "</table>\n",
       "</div>"
      ],
      "text/plain": [
       "           review_id  star_rating  helpful_votes  total_votes vine  \\\n",
       "326   R1B4753QMTD8ON          5.0           32.0         32.0    N   \n",
       "662   R28BVHOEL6GCHZ          5.0           21.0         21.0    N   \n",
       "1055  R27IB4BRKO71I0          2.0           16.0         20.0    N   \n",
       "1225   RJ86OW12Y4NRL          5.0          124.0        128.0    N   \n",
       "1448  R3KRABOWCH6ZE4          1.0           48.0         65.0    N   \n",
       "\n",
       "     verified_purchase  \n",
       "326                  N  \n",
       "662                  Y  \n",
       "1055                 Y  \n",
       "1225                 Y  \n",
       "1448                 Y  "
      ]
     },
     "execution_count": 3,
     "metadata": {},
     "output_type": "execute_result"
    }
   ],
   "source": [
    "#Filter the new DataFrame or table created in Step 1 and create a new \n",
    "#DataFrame or table to retrieve all the rows where the number of helpful_votes \n",
    "#divided by total_votes is equal to or greater than 50%.\n",
    "vt_df_helpful = vt_df_votes[((vt_df_votes[\"helpful_votes\"])/(vt_df_votes[\"total_votes\"]))>=.5]\n",
    "vt_df_helpful.head()"
   ]
  },
  {
   "cell_type": "code",
   "execution_count": 4,
   "id": "00964155",
   "metadata": {},
   "outputs": [
    {
     "data": {
      "text/html": [
       "<div>\n",
       "<style scoped>\n",
       "    .dataframe tbody tr th:only-of-type {\n",
       "        vertical-align: middle;\n",
       "    }\n",
       "\n",
       "    .dataframe tbody tr th {\n",
       "        vertical-align: top;\n",
       "    }\n",
       "\n",
       "    .dataframe thead th {\n",
       "        text-align: right;\n",
       "    }\n",
       "</style>\n",
       "<table border=\"1\" class=\"dataframe\">\n",
       "  <thead>\n",
       "    <tr style=\"text-align: right;\">\n",
       "      <th></th>\n",
       "      <th>review_id</th>\n",
       "      <th>star_rating</th>\n",
       "      <th>helpful_votes</th>\n",
       "      <th>total_votes</th>\n",
       "      <th>vine</th>\n",
       "      <th>verified_purchase</th>\n",
       "    </tr>\n",
       "  </thead>\n",
       "  <tbody>\n",
       "    <tr>\n",
       "      <th>5506</th>\n",
       "      <td>R32OMS1LSDRCOB</td>\n",
       "      <td>4.0</td>\n",
       "      <td>27.0</td>\n",
       "      <td>31.0</td>\n",
       "      <td>Y</td>\n",
       "      <td>N</td>\n",
       "    </tr>\n",
       "    <tr>\n",
       "      <th>24578</th>\n",
       "      <td>R2IPKK4I0XRCFR</td>\n",
       "      <td>4.0</td>\n",
       "      <td>16.0</td>\n",
       "      <td>21.0</td>\n",
       "      <td>Y</td>\n",
       "      <td>N</td>\n",
       "    </tr>\n",
       "    <tr>\n",
       "      <th>58364</th>\n",
       "      <td>RXYYJ8SGI9IX6</td>\n",
       "      <td>5.0</td>\n",
       "      <td>36.0</td>\n",
       "      <td>41.0</td>\n",
       "      <td>Y</td>\n",
       "      <td>N</td>\n",
       "    </tr>\n",
       "    <tr>\n",
       "      <th>63194</th>\n",
       "      <td>R1SAUBFC7T6JHC</td>\n",
       "      <td>5.0</td>\n",
       "      <td>73.0</td>\n",
       "      <td>75.0</td>\n",
       "      <td>Y</td>\n",
       "      <td>N</td>\n",
       "    </tr>\n",
       "    <tr>\n",
       "      <th>177724</th>\n",
       "      <td>R329HVJKKHWSG3</td>\n",
       "      <td>5.0</td>\n",
       "      <td>59.0</td>\n",
       "      <td>59.0</td>\n",
       "      <td>Y</td>\n",
       "      <td>N</td>\n",
       "    </tr>\n",
       "  </tbody>\n",
       "</table>\n",
       "</div>"
      ],
      "text/plain": [
       "             review_id  star_rating  helpful_votes  total_votes vine  \\\n",
       "5506    R32OMS1LSDRCOB          4.0           27.0         31.0    Y   \n",
       "24578   R2IPKK4I0XRCFR          4.0           16.0         21.0    Y   \n",
       "58364    RXYYJ8SGI9IX6          5.0           36.0         41.0    Y   \n",
       "63194   R1SAUBFC7T6JHC          5.0           73.0         75.0    Y   \n",
       "177724  R329HVJKKHWSG3          5.0           59.0         59.0    Y   \n",
       "\n",
       "       verified_purchase  \n",
       "5506                   N  \n",
       "24578                  N  \n",
       "58364                  N  \n",
       "63194                  N  \n",
       "177724                 N  "
      ]
     },
     "execution_count": 4,
     "metadata": {},
     "output_type": "execute_result"
    }
   ],
   "source": [
    "#Filter the DataFrame or table created in Step 2, and create a new \n",
    "#DataFrame or table that retrieves all the rows where a review was \n",
    "#written as part of the Vine program (paid), vine == 'Y'\n",
    "vt_df_vineY = vt_df_helpful[vt_df_helpful['vine']=='Y']\n",
    "vt_df_vineY.head()"
   ]
  },
  {
   "cell_type": "code",
   "execution_count": 5,
   "id": "90cb4ed9",
   "metadata": {},
   "outputs": [
    {
     "data": {
      "text/html": [
       "<div>\n",
       "<style scoped>\n",
       "    .dataframe tbody tr th:only-of-type {\n",
       "        vertical-align: middle;\n",
       "    }\n",
       "\n",
       "    .dataframe tbody tr th {\n",
       "        vertical-align: top;\n",
       "    }\n",
       "\n",
       "    .dataframe thead th {\n",
       "        text-align: right;\n",
       "    }\n",
       "</style>\n",
       "<table border=\"1\" class=\"dataframe\">\n",
       "  <thead>\n",
       "    <tr style=\"text-align: right;\">\n",
       "      <th></th>\n",
       "      <th>review_id</th>\n",
       "      <th>star_rating</th>\n",
       "      <th>helpful_votes</th>\n",
       "      <th>total_votes</th>\n",
       "      <th>vine</th>\n",
       "      <th>verified_purchase</th>\n",
       "    </tr>\n",
       "  </thead>\n",
       "  <tbody>\n",
       "    <tr>\n",
       "      <th>326</th>\n",
       "      <td>R1B4753QMTD8ON</td>\n",
       "      <td>5.0</td>\n",
       "      <td>32.0</td>\n",
       "      <td>32.0</td>\n",
       "      <td>N</td>\n",
       "      <td>N</td>\n",
       "    </tr>\n",
       "    <tr>\n",
       "      <th>662</th>\n",
       "      <td>R28BVHOEL6GCHZ</td>\n",
       "      <td>5.0</td>\n",
       "      <td>21.0</td>\n",
       "      <td>21.0</td>\n",
       "      <td>N</td>\n",
       "      <td>Y</td>\n",
       "    </tr>\n",
       "    <tr>\n",
       "      <th>1055</th>\n",
       "      <td>R27IB4BRKO71I0</td>\n",
       "      <td>2.0</td>\n",
       "      <td>16.0</td>\n",
       "      <td>20.0</td>\n",
       "      <td>N</td>\n",
       "      <td>Y</td>\n",
       "    </tr>\n",
       "    <tr>\n",
       "      <th>1225</th>\n",
       "      <td>RJ86OW12Y4NRL</td>\n",
       "      <td>5.0</td>\n",
       "      <td>124.0</td>\n",
       "      <td>128.0</td>\n",
       "      <td>N</td>\n",
       "      <td>Y</td>\n",
       "    </tr>\n",
       "    <tr>\n",
       "      <th>1448</th>\n",
       "      <td>R3KRABOWCH6ZE4</td>\n",
       "      <td>1.0</td>\n",
       "      <td>48.0</td>\n",
       "      <td>65.0</td>\n",
       "      <td>N</td>\n",
       "      <td>Y</td>\n",
       "    </tr>\n",
       "  </tbody>\n",
       "</table>\n",
       "</div>"
      ],
      "text/plain": [
       "           review_id  star_rating  helpful_votes  total_votes vine  \\\n",
       "326   R1B4753QMTD8ON          5.0           32.0         32.0    N   \n",
       "662   R28BVHOEL6GCHZ          5.0           21.0         21.0    N   \n",
       "1055  R27IB4BRKO71I0          2.0           16.0         20.0    N   \n",
       "1225   RJ86OW12Y4NRL          5.0          124.0        128.0    N   \n",
       "1448  R3KRABOWCH6ZE4          1.0           48.0         65.0    N   \n",
       "\n",
       "     verified_purchase  \n",
       "326                  N  \n",
       "662                  Y  \n",
       "1055                 Y  \n",
       "1225                 Y  \n",
       "1448                 Y  "
      ]
     },
     "execution_count": 5,
     "metadata": {},
     "output_type": "execute_result"
    }
   ],
   "source": [
    "#Repeat Step 3, but this time retrieve all the rows where the review \n",
    "#was not part of the Vine program (unpaid), vine == 'N'\n",
    "vt_df_vineN = vt_df_helpful[vt_df_helpful['vine']=='N']\n",
    "vt_df_vineN.head()"
   ]
  },
  {
   "cell_type": "code",
   "execution_count": 6,
   "id": "ec61b1cd",
   "metadata": {},
   "outputs": [],
   "source": [
    "#Determine the total number of reviews, the number of 5-star reviews, \n",
    "#and the percentage of 5-star reviews for the two types of review (paid vs unpaid)."
   ]
  },
  {
   "cell_type": "code",
   "execution_count": 7,
   "id": "6742ae1a",
   "metadata": {},
   "outputs": [
    {
     "data": {
      "text/plain": [
       "334"
      ]
     },
     "execution_count": 7,
     "metadata": {},
     "output_type": "execute_result"
    }
   ],
   "source": [
    "total_paid_reviews = vt_df_vineY['review_id'].count()\n",
    "total_paid_reviews"
   ]
  },
  {
   "cell_type": "code",
   "execution_count": 8,
   "id": "c10d3c0e",
   "metadata": {},
   "outputs": [
    {
     "data": {
      "text/plain": [
       "139"
      ]
     },
     "execution_count": 8,
     "metadata": {},
     "output_type": "execute_result"
    }
   ],
   "source": [
    "paid_five_star = vt_df_vineY[vt_df_vineY['star_rating']==5]['review_id'].count()\n",
    "paid_five_star"
   ]
  },
  {
   "cell_type": "code",
   "execution_count": 9,
   "id": "3b49dcc4",
   "metadata": {},
   "outputs": [
    {
     "data": {
      "text/plain": [
       "41.62"
      ]
     },
     "execution_count": 9,
     "metadata": {},
     "output_type": "execute_result"
    }
   ],
   "source": [
    "paid_five_star_percent = round((paid_five_star / total_paid_reviews)*100,2)\n",
    "paid_five_star_percent"
   ]
  },
  {
   "cell_type": "code",
   "execution_count": 10,
   "id": "5d826763",
   "metadata": {},
   "outputs": [
    {
     "data": {
      "text/plain": [
       "61614"
      ]
     },
     "execution_count": 10,
     "metadata": {},
     "output_type": "execute_result"
    }
   ],
   "source": [
    "total_unpaid_reviews = vt_df_vineN['review_id'].count()\n",
    "total_unpaid_reviews"
   ]
  },
  {
   "cell_type": "code",
   "execution_count": 11,
   "id": "e671fa5e",
   "metadata": {},
   "outputs": [
    {
     "data": {
      "text/plain": [
       "32665"
      ]
     },
     "execution_count": 11,
     "metadata": {},
     "output_type": "execute_result"
    }
   ],
   "source": [
    "unpaid_five_star = vt_df_vineN[vt_df_vineN['star_rating']==5]['review_id'].count()\n",
    "unpaid_five_star"
   ]
  },
  {
   "cell_type": "code",
   "execution_count": 12,
   "id": "f1c4733e",
   "metadata": {},
   "outputs": [
    {
     "data": {
      "text/plain": [
       "53.02"
      ]
     },
     "execution_count": 12,
     "metadata": {},
     "output_type": "execute_result"
    }
   ],
   "source": [
    "unpaid_five_star_percent = round((unpaid_five_star / total_unpaid_reviews)*100,2)\n",
    "unpaid_five_star_percent"
   ]
  },
  {
   "cell_type": "code",
   "execution_count": null,
   "id": "ef4b6f38",
   "metadata": {},
   "outputs": [],
   "source": []
  }
 ],
 "metadata": {
  "kernelspec": {
   "display_name": "Python 3 (ipykernel)",
   "language": "python",
   "name": "python3"
  },
  "language_info": {
   "codemirror_mode": {
    "name": "ipython",
    "version": 3
   },
   "file_extension": ".py",
   "mimetype": "text/x-python",
   "name": "python",
   "nbconvert_exporter": "python",
   "pygments_lexer": "ipython3",
   "version": "3.9.7"
  }
 },
 "nbformat": 4,
 "nbformat_minor": 5
}
